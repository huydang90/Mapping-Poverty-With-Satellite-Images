{
 "cells": [
  {
   "cell_type": "code",
   "execution_count": 2,
   "metadata": {},
   "outputs": [],
   "source": [
    "#import libraries \n",
    "\n",
    "import os\n",
    "import requests"
   ]
  },
  {
   "cell_type": "code",
   "execution_count": 3,
   "metadata": {},
   "outputs": [],
   "source": [
    "BASE_DIR = '..'\n",
    "NIGHTLIGHTS_DIR = os.path.join(BASE_DIR, 'data/Nightlights')"
   ]
  },
  {
   "cell_type": "code",
   "execution_count": 4,
   "metadata": {},
   "outputs": [
    {
     "name": "stdout",
     "output_type": "stream",
     "text": [
      "Saved to ../data/Nightlights/2013/nightlights_data\n"
     ]
    }
   ],
   "source": [
    "# 2013 is the closest year the NOAA maintains\n",
    "for year in [2013]:\n",
    "    year = str(year)\n",
    "    url = 'https://ngdc.noaa.gov/eog/data/web_data/v4composites/F18' + year + '.v4.tar'\n",
    "    target = os.path.join(NIGHTLIGHTS_DIR, year)\n",
    "    os.makedirs(target, exist_ok=True)\n",
    "    target += '/nightlights_data'\n",
    "    response = requests.get(url, stream=True)\n",
    "    if response.status_code == 200:\n",
    "        with open(target, 'wb') as f:\n",
    "            f.write(response.raw.read())\n",
    "            print(f'Saved to {target}')"
   ]
  },
  {
   "cell_type": "code",
   "execution_count": 5,
   "metadata": {},
   "outputs": [],
   "source": [
    "import tarfile\n",
    "import gzip\n",
    "import shutil"
   ]
  },
  {
   "cell_type": "code",
   "execution_count": 6,
   "metadata": {},
   "outputs": [
    {
     "name": "stdout",
     "output_type": "stream",
     "text": [
      "2013\n",
      "Saved to ../data/Nightlights/2013/F182013.v4c_web.stable_lights.avg_vis.tif.gz\n"
     ]
    }
   ],
   "source": [
    "# this unzips the data\n",
    "for year in [2013]:\n",
    "    print(year)\n",
    "    year = str(year)\n",
    "    folder_loc = os.path.join(NIGHTLIGHTS_DIR, year)\n",
    "    file_loc = folder_loc + '/nightlights_data'\n",
    "    tar = tarfile.open(file_loc)\n",
    "    tar.extractall(path=folder_loc)\n",
    "    \n",
    "    files = os.listdir(os.path.join(NIGHTLIGHTS_DIR, year))\n",
    "    for file in files:\n",
    "        path = os.path.join(NIGHTLIGHTS_DIR, year, file)\n",
    "        if 'stable' in file: # only need stable_lights\n",
    "            if file.split('.')[-1] == 'gz':\n",
    "                # unzip the file is a .gz file\n",
    "                with gzip.open(path, 'rb') as f_in:\n",
    "                    with open(path[:-3], 'wb') as f_out:\n",
    "                        shutil.copyfileobj(f_in, f_out)\n",
    "                        print(f'Saved to {path}')\n",
    "        os.remove(path)"
   ]
  },
  {
   "cell_type": "code",
   "execution_count": 7,
   "metadata": {},
   "outputs": [
    {
     "data": {
      "text/plain": [
       "\"/Users/dangngochuy/Desktop/Github/Kalapa's Credit Scoring Challenge\""
      ]
     },
     "execution_count": 7,
     "metadata": {},
     "output_type": "execute_result"
    }
   ],
   "source": [
    "pwd()"
   ]
  },
  {
   "cell_type": "code",
   "execution_count": null,
   "metadata": {},
   "outputs": [],
   "source": []
  }
 ],
 "metadata": {
  "kernelspec": {
   "display_name": "Python 3",
   "language": "python",
   "name": "python3"
  },
  "language_info": {
   "codemirror_mode": {
    "name": "ipython",
    "version": 3
   },
   "file_extension": ".py",
   "mimetype": "text/x-python",
   "name": "python",
   "nbconvert_exporter": "python",
   "pygments_lexer": "ipython3",
   "version": "3.6.5"
  }
 },
 "nbformat": 4,
 "nbformat_minor": 2
}
