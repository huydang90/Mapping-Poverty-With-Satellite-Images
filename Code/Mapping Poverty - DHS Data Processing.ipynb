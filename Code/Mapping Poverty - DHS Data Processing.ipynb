{
 "cells": [
  {
   "cell_type": "code",
   "execution_count": 2,
   "metadata": {},
   "outputs": [],
   "source": [
    "import pandas as pd\n",
    "import numpy as np\n"
   ]
  },
  {
   "cell_type": "code",
   "execution_count": 6,
   "metadata": {},
   "outputs": [],
   "source": [
    "file_name = '/Users/dangngochuy/Desktop/Github/data/DHS/BDHR72FL.DAT'\n",
    "cluster_file = '/Users/dangngochuy/Desktop/Github/data/DHS/bangladesh_clusters_location.csv'\n",
    "cluster_all = []\n",
    "wealth_all = []\n",
    "with open(file_name) as f:\n",
    "    for line in f:\n",
    "        cluster = int(line[15:23])\n",
    "        wealth = int(line[230:238]) / 100000.0\n",
    "        cluster_all.append(cluster)\n",
    "        wealth_all.append(wealth)\n",
    "\n",
    "df = pd.DataFrame({'cluster': cluster_all, 'wlthindf': wealth_all})\n",
    "cluster_avg_asset = df.groupby('cluster')['wlthindf'].median().reset_index()\n",
    "\n",
    "df_location = pd.read_csv(cluster_file)[['DHSCLUST', 'LATNUM', 'LONGNUM']]\n",
    "result = cluster_avg_asset.merge(df_location, how='inner', left_on='cluster', right_on='DHSCLUST')[['cluster', 'wlthindf', 'LATNUM', 'LONGNUM']]\n",
    "result.rename(columns={'LATNUM': 'latitude', 'LONGNUM':'longitude'}, inplace=True)\n",
    "result.to_csv('bangladesh_cluster_avg_asset_2010.csv', index=False)"
   ]
  },
  {
   "cell_type": "code",
   "execution_count": null,
   "metadata": {},
   "outputs": [],
   "source": []
  }
 ],
 "metadata": {
  "kernelspec": {
   "display_name": "Python 3",
   "language": "python",
   "name": "python3"
  },
  "language_info": {
   "codemirror_mode": {
    "name": "ipython",
    "version": 3
   },
   "file_extension": ".py",
   "mimetype": "text/x-python",
   "name": "python",
   "nbconvert_exporter": "python",
   "pygments_lexer": "ipython3",
   "version": "3.6.5"
  }
 },
 "nbformat": 4,
 "nbformat_minor": 2
}
